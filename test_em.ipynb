{
 "cells": [
  {
   "cell_type": "code",
   "execution_count": 1,
   "metadata": {},
   "outputs": [],
   "source": [
    "import numpy as np\n",
    "\n",
    "from HMM import *\n",
    "from toolbox import *"
   ]
  },
  {
   "cell_type": "code",
   "execution_count": 2,
   "metadata": {},
   "outputs": [
    {
     "name": "stdout",
     "output_type": "stream",
     "text": [
      "26 states :\n",
      "['a', 'b', 'c', 'd', 'e', 'f', 'g', 'h', 'i', 'j', 'k', 'l', 'm', 'n', 'o', 'p', 'q', 'r', 's', 't', 'u', 'v', 'w', 'x', 'y', 'z']\n",
      "26 observations :\n",
      "['a', 'b', 'c', 'd', 'e', 'f', 'g', 'h', 'i', 'j', 'k', 'l', 'm', 'n', 'o', 'p', 'q', 'r', 's', 't', 'u', 'v', 'w', 'x', 'y', 'z']\n",
      "\n",
      "Sample example (observation, état) :\n",
      "[('a', 'a'), ('c', 'c'), ('v', 'c'), ('o', 'o'), ('u', 'u'), ('n', 'n'), ('t', 't')]\n"
     ]
    }
   ],
   "source": [
    "# Import and separate datasets\n",
    "ERROR_RATE = 10  # 10% or 20%\n",
    "train_set, test_set = load_db(error_rate=ERROR_RATE)\n",
    "X_train = [[token[0] for token in word] for word in train_set]\n",
    "y_train = [[token[1] for token in word] for word in train_set]\n",
    "X_test = [[token[0] for token in word] for word in test_set]\n",
    "y_test = [[token[1] for token in word] for word in test_set]\n",
    "\n",
    "# Get states and observations sets\n",
    "states, observations = get_observations_states(X_train, y_train)\n",
    "print(\"{} states :\\n{}\".format(len(states), states))\n",
    "print(\"{} observations :\\n{}\".format(len(observations), observations))\n",
    "\n",
    "# Example from dataset\n",
    "print(\"\\nSample example (observation, état) :\\n{}\".format(train_set[3]))"
   ]
  },
  {
   "cell_type": "code",
   "execution_count": 3,
   "metadata": {},
   "outputs": [
    {
     "name": "stdout",
     "output_type": "stream",
     "text": [
      "1st order HMM created with: \n",
      " * 26 states\n",
      " * 26 observations\n",
      "EM LOOP: n_iter= 0\n",
      "EM LOOP: n_iter= 1\n",
      "EM LOOP: n_iter= 2\n",
      "EM LOOP: n_iter= 3\n",
      "EM LOOP: n_iter= 4\n",
      "EM LOOP: n_iter= 5\n",
      "EM LOOP: n_iter= 6\n",
      "EM LOOP: n_iter= 7\n",
      "EM LOOP: n_iter= 8\n",
      "EM LOOP: n_iter= 9\n",
      "EM LOOP: n_iter= 10\n",
      "EM LOOP: n_iter= 11\n",
      "EM LOOP: n_iter= 12\n",
      "EM LOOP: n_iter= 13\n",
      "EM LOOP: n_iter= 14\n",
      "EM LOOP: n_iter= 15\n",
      "EM LOOP: n_iter= 16\n",
      "EM LOOP: n_iter= 17\n",
      "EM LOOP: n_iter= 18\n",
      "EM LOOP: n_iter= 19\n",
      "EM LOOP: n_iter= 20\n",
      "EM LOOP: n_iter= 21\n",
      "EM LOOP: n_iter= 22\n",
      "EM LOOP: n_iter= 23\n",
      "EM LOOP: n_iter= 24\n",
      "EM LOOP: n_iter= 25\n"
     ]
    }
   ],
   "source": [
    "# Initialize and train HMM\n",
    "hmm1 = HMM(states, observations)\n",
    "hmm1.EM(X_train)"
   ]
  },
  {
   "cell_type": "code",
   "execution_count": 4,
   "metadata": {},
   "outputs": [
    {
     "name": "stdout",
     "output_type": "stream",
     "text": [
      "HMM1 score on test set\n",
      " * accuracy on full words : 2.53%\n",
      " * accuracy on letters    : 7.69%\n",
      "   > typos corrected      : 56 (0.77%)\n",
      "   > typos not corrected  : 689 (9.41%)\n",
      "   > typos added          : 6068 (82.90%)\n",
      "\n",
      "Dummy score on test set\n",
      " * accuracy on full words : 62.89%\n",
      " * accuracy on letters    : 89.82%\n",
      "   > typos corrected      : 0 (0.00%)\n",
      "   > typos not corrected  : 745 (10.18%)\n",
      "   > typos added          : 0 (0.00%)\n"
     ]
    }
   ],
   "source": [
    "y_test_pred = hmm1.predict(X_test)\n",
    "display_correction_stats(X_test, y_test, y_test_pred, name=\"HMM1\")"
   ]
  },
  {
   "cell_type": "code",
   "execution_count": null,
   "metadata": {},
   "outputs": [],
   "source": []
  }
 ],
 "metadata": {
  "kernelspec": {
   "display_name": "Python 3",
   "language": "python",
   "name": "python3"
  },
  "language_info": {
   "codemirror_mode": {
    "name": "ipython",
    "version": 3
   },
   "file_extension": ".py",
   "mimetype": "text/x-python",
   "name": "python",
   "nbconvert_exporter": "python",
   "pygments_lexer": "ipython3",
   "version": "3.5.2"
  }
 },
 "nbformat": 4,
 "nbformat_minor": 2
}
