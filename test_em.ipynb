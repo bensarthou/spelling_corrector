{
 "cells": [
  {
   "cell_type": "code",
   "execution_count": 1,
   "metadata": {},
   "outputs": [],
   "source": [
    "import numpy as np\n",
    "\n",
    "from HMM import *\n",
    "from toolbox import *"
   ]
  },
  {
   "cell_type": "code",
   "execution_count": 2,
   "metadata": {},
   "outputs": [
    {
     "name": "stdout",
     "output_type": "stream",
     "text": [
      "26 states :\n",
      "['a', 'b', 'c', 'd', 'e', 'f', 'g', 'h', 'i', 'j', 'k', 'l', 'm', 'n', 'o', 'p', 'q', 'r', 's', 't', 'u', 'v', 'w', 'x', 'y', 'z']\n",
      "26 observations :\n",
      "['a', 'b', 'c', 'd', 'e', 'f', 'g', 'h', 'i', 'j', 'k', 'l', 'm', 'n', 'o', 'p', 'q', 'r', 's', 't', 'u', 'v', 'w', 'x', 'y', 'z']\n",
      "\n",
      "Sample example (observation, état) :\n",
      "[('a', 'a'), ('c', 'c'), ('v', 'c'), ('o', 'o'), ('u', 'u'), ('n', 'n'), ('t', 't')]\n"
     ]
    }
   ],
   "source": [
    "# Import and separate datasets\n",
    "ERROR_RATE = 10  # 10% or 20%\n",
    "train_set, test_set = load_db(error_rate=ERROR_RATE)\n",
    "X_train = [[token[0] for token in word] for word in train_set]\n",
    "y_train = [[token[1] for token in word] for word in train_set]\n",
    "X_test = [[token[0] for token in word] for word in test_set]\n",
    "y_test = [[token[1] for token in word] for word in test_set]\n",
    "\n",
    "# Get states and observations sets\n",
    "states, observations = get_observations_states(X_train, y_train)\n",
    "print(\"{} states :\\n{}\".format(len(states), states))\n",
    "print(\"{} observations :\\n{}\".format(len(observations), observations))\n",
    "\n",
    "# Example from dataset\n",
    "print(\"\\nSample example (observation, état) :\\n{}\".format(train_set[3]))"
   ]
  },
  {
   "cell_type": "code",
   "execution_count": 3,
   "metadata": {},
   "outputs": [
    {
     "name": "stdout",
     "output_type": "stream",
     "text": [
      "1st order HMM created with: \n",
      " * 26 states\n",
      " * 26 observations\n",
      "-- EXPECTATION\n",
      "EM LOOP: n_iter= 0\n",
      "-- MINIMIZATION\n",
      "-- EXPECTATION\n",
      "EM LOOP: n_iter= 1\n",
      "-- MINIMIZATION\n",
      "-- EXPECTATION\n",
      "EM LOOP: n_iter= 2\n",
      "-- MINIMIZATION\n",
      "-- EXPECTATION\n",
      "EM LOOP: n_iter= 3\n",
      "-- MINIMIZATION\n",
      "-- EXPECTATION\n",
      "EM LOOP: n_iter= 4\n",
      "-- MINIMIZATION\n",
      "-- EXPECTATION\n",
      "EM LOOP: n_iter= 5\n",
      "-- MINIMIZATION\n",
      "-- EXPECTATION\n",
      "EM LOOP: n_iter= 6\n",
      "-- MINIMIZATION\n",
      "-- EXPECTATION\n",
      "EM LOOP: n_iter= 7\n",
      "-- MINIMIZATION\n",
      "-- EXPECTATION\n",
      "EM LOOP: n_iter= 8\n",
      "-- MINIMIZATION\n",
      "-- EXPECTATION\n",
      "EM LOOP: n_iter= 9\n",
      "-- MINIMIZATION\n",
      "-- EXPECTATION\n",
      "EM LOOP: n_iter= 10\n",
      "-- MINIMIZATION\n",
      "-- EXPECTATION\n",
      "EM LOOP: n_iter= 11\n",
      "-- MINIMIZATION\n",
      "-- EXPECTATION\n",
      "EM LOOP: n_iter= 12\n",
      "-- MINIMIZATION\n",
      "-- EXPECTATION\n",
      "EM LOOP: n_iter= 13\n",
      "-- MINIMIZATION\n",
      "-- EXPECTATION\n",
      "EM LOOP: n_iter= 14\n",
      "-- MINIMIZATION\n",
      "-- EXPECTATION\n",
      "EM LOOP: n_iter= 15\n",
      "-- MINIMIZATION\n",
      "-- EXPECTATION\n",
      "EM LOOP: n_iter= 16\n",
      "-- MINIMIZATION\n",
      "-- EXPECTATION\n",
      "EM LOOP: n_iter= 17\n",
      "-- MINIMIZATION\n",
      "-- EXPECTATION\n",
      "EM LOOP: n_iter= 18\n",
      "-- MINIMIZATION\n",
      "-- EXPECTATION\n",
      "EM LOOP: n_iter= 19\n",
      "-- MINIMIZATION\n",
      "-- EXPECTATION\n",
      "EM LOOP: n_iter= 20\n",
      "-- MINIMIZATION\n",
      "-- EXPECTATION\n",
      "EM LOOP: n_iter= 21\n",
      "-- MINIMIZATION\n",
      "-- EXPECTATION\n",
      "EM LOOP: n_iter= 22\n",
      "-- MINIMIZATION\n",
      "-- EXPECTATION\n",
      "EM LOOP: n_iter= 23\n",
      "-- MINIMIZATION\n",
      "-- EXPECTATION\n",
      "EM LOOP: n_iter= 24\n",
      "-- MINIMIZATION\n",
      "-- EXPECTATION\n",
      "EM LOOP: n_iter= 25\n",
      "-- MINIMIZATION\n",
      "-- EXPECTATION\n"
     ]
    }
   ],
   "source": [
    "# Initialize and train HMM\n",
    "hmm1 = HMM(states, observations)\n",
    "hmm1.EM(X_train)"
   ]
  },
  {
   "cell_type": "code",
   "execution_count": 4,
   "metadata": {},
   "outputs": [
    {
     "name": "stdout",
     "output_type": "stream",
     "text": [
      "HMM1 score on test set\n",
      " * accuracy on full words : 2.53%\n",
      " * accuracy on letters    : 7.69%\n",
      "   > typos corrected      : 56 (0.77%)\n",
      "   > typos not corrected  : 689 (9.41%)\n",
      "   > typos added          : 6068 (82.90%)\n",
      "\n",
      "Dummy score on test set\n",
      " * accuracy on full words : 62.89%\n",
      " * accuracy on letters    : 89.82%\n",
      "   > typos corrected      : 0 (0.00%)\n",
      "   > typos not corrected  : 745 (10.18%)\n",
      "   > typos added          : 0 (0.00%)\n"
     ]
    }
   ],
   "source": [
    "y_test_pred = hmm1.predict(X_test)\n",
    "display_correction_stats(X_test, y_test, y_test_pred, name=\"HMM1\")"
   ]
  },
  {
   "cell_type": "code",
   "execution_count": 5,
   "metadata": {},
   "outputs": [],
   "source": [
    "states = ['Healthy', 'Fever', 'Z_end']"
   ]
  },
  {
   "cell_type": "code",
   "execution_count": 6,
   "metadata": {},
   "outputs": [],
   "source": [
    "observations = ['normal', 'cold', 'dizzy']"
   ]
  },
  {
   "cell_type": "code",
   "execution_count": 7,
   "metadata": {},
   "outputs": [
    {
     "name": "stdout",
     "output_type": "stream",
     "text": [
      "1st order HMM created with: \n",
      " * 3 states\n",
      " * 3 observations\n",
      "['Fever', 'Healthy', 'Z_end']\n",
      "['cold', 'dizzy', 'normal']\n"
     ]
    }
   ],
   "source": [
    "hmm_test = HMM(states, observations)  \n",
    "print(hmm_test.omega_Y)\n",
    "print(hmm_test.omega_X)"
   ]
  },
  {
   "cell_type": "code",
   "execution_count": 8,
   "metadata": {},
   "outputs": [],
   "source": [
    "hmm_test.transition_logproba = np.array([[0.59, 0.4, 0.01], [0.3, 0.69, 0.01], [0., 0., 1.]])"
   ]
  },
  {
   "cell_type": "code",
   "execution_count": 9,
   "metadata": {},
   "outputs": [],
   "source": [
    "hmm_test.observation_logproba = np.array([[0.3, 0.6, 0.1], [0.4, 0.1, 0.5], [0.33, 0.33, 0.33]])"
   ]
  },
  {
   "cell_type": "code",
   "execution_count": 10,
   "metadata": {},
   "outputs": [],
   "source": [
    "hmm_test.initial_state_logproba = np.array([0.4, 0.6, 0.0])"
   ]
  },
  {
   "cell_type": "code",
   "execution_count": 11,
   "metadata": {},
   "outputs": [],
   "source": [
    "alpha = hmm_test.forward(observations_sequence=['normal', 'cold', 'dizzy'], decode=True)"
   ]
  },
  {
   "cell_type": "code",
   "execution_count": 12,
   "metadata": {},
   "outputs": [],
   "source": [
    "beta = hmm_test.backward(observations_sequence=['normal', 'cold', 'dizzy'], decode=True)"
   ]
  },
  {
   "cell_type": "code",
   "execution_count": 13,
   "metadata": {},
   "outputs": [
    {
     "name": "stdout",
     "output_type": "stream",
     "text": [
      "alpha [[0.04       0.03408    0.02812032]\n",
      " [0.3        0.0892     0.007518  ]\n",
      " [0.         0.001122   0.00077708]]\n",
      "beta [[0.0035016  0.0384     0.2       ]\n",
      " [0.021894   0.0412     0.03333333]\n",
      " [0.01249578 0.03707    0.11      ]]\n"
     ]
    }
   ],
   "source": [
    "print('alpha', alpha)\n",
    "print('beta', beta)"
   ]
  },
  {
   "cell_type": "code",
   "execution_count": 14,
   "metadata": {},
   "outputs": [],
   "source": [
    "def fwd_bkw(observations, states, start_prob, trans_prob, emm_prob, end_st):\n",
    "    # forward part of the algorithm\n",
    "    fwd = []\n",
    "    f_prev = {}\n",
    "    for i, observation_i in enumerate(observations):\n",
    "        f_curr = {}\n",
    "        for st in states:\n",
    "            if i == 0:\n",
    "                # base case for the forward part\n",
    "                prev_f_sum = start_prob[st]\n",
    "            else:\n",
    "                prev_f_sum = sum(f_prev[k]*trans_prob[k][st] for k in states)\n",
    "\n",
    "            f_curr[st] = emm_prob[st][observation_i] * prev_f_sum\n",
    "\n",
    "        fwd.append(f_curr)\n",
    "        f_prev = f_curr\n",
    "\n",
    "    p_fwd = sum(f_curr[k] * trans_prob[k][end_st] for k in states)\n",
    "    print(fwd)\n",
    "\n",
    "    # backward part of the algorithm\n",
    "    bkw = []\n",
    "    b_prev = {}\n",
    "    for i, observation_i_plus in enumerate(reversed(observations[1:]+(None,))):\n",
    "        b_curr = {}\n",
    "        for st in states:\n",
    "            if i == 0:\n",
    "                # base case for backward part\n",
    "                b_curr[st] = trans_prob[st][end_st]\n",
    "            else:\n",
    "                b_curr[st] = sum(trans_prob[st][l] * emm_prob[l][observation_i_plus] * b_prev[l] for l in states)\n",
    "\n",
    "        bkw.insert(0,b_curr)\n",
    "        b_prev = b_curr\n",
    "    print(bkw)\n",
    "    p_bkw = sum(start_prob[l] * emm_prob[l][observations[0]] * b_curr[l] for l in states)\n",
    "\n",
    "    # merging the two parts\n",
    "    posterior = []\n",
    "    for i in range(len(observations)):\n",
    "        posterior.append({st: fwd[i][st] * bkw[i][st] / p_fwd for st in states})\n",
    "\n",
    "    assert p_fwd == p_bkw\n",
    "    return fwd, bkw, posterior\n"
   ]
  },
  {
   "cell_type": "code",
   "execution_count": 15,
   "metadata": {},
   "outputs": [
    {
     "name": "stdout",
     "output_type": "stream",
     "text": [
      "[{'Healthy': 0.3, 'Fever': 0.04000000000000001}, {'Healthy': 0.0892, 'Fever': 0.03408}, {'Healthy': 0.007518, 'Fever': 0.028120319999999997}]\n",
      "[{'Healthy': 0.0010418399999999998, 'Fever': 0.00109578}, {'Healthy': 0.00249, 'Fever': 0.00394}, {'Healthy': 0.01, 'Fever': 0.01}]\n"
     ]
    },
    {
     "data": {
      "text/plain": [
       "([{'Fever': 0.04000000000000001, 'Healthy': 0.3},\n",
       "  {'Fever': 0.03408, 'Healthy': 0.0892},\n",
       "  {'Fever': 0.028120319999999997, 'Healthy': 0.007518}],\n",
       " [{'Fever': 0.00109578, 'Healthy': 0.0010418399999999998},\n",
       "  {'Fever': 0.00394, 'Healthy': 0.00249},\n",
       "  {'Fever': 0.01, 'Healthy': 0.01}],\n",
       " [{'Fever': 0.1229889624426741, 'Healthy': 0.8770110375573259},\n",
       "  {'Fever': 0.3767719690490461, 'Healthy': 0.623228030950954},\n",
       "  {'Fever': 0.7890472951586943, 'Healthy': 0.2109527048413057}])"
      ]
     },
     "execution_count": 15,
     "metadata": {},
     "output_type": "execute_result"
    }
   ],
   "source": [
    "states = ('Healthy', 'Fever')\n",
    "end_state = 'E'\n",
    " \n",
    "observations = ('normal', 'cold', 'dizzy')\n",
    " \n",
    "start_probability = {'Healthy': 0.6, 'Fever': 0.4}\n",
    " \n",
    "transition_probability = {\n",
    "   'Healthy' : {'Healthy': 0.69, 'Fever': 0.3, 'E': 0.01},\n",
    "   'Fever' : {'Healthy': 0.4, 'Fever': 0.59, 'E': 0.01},\n",
    "   }\n",
    " \n",
    "emission_probability = {\n",
    "   'Healthy' : {'normal': 0.5, 'cold': 0.4, 'dizzy': 0.1},\n",
    "   'Fever' : {'normal': 0.1, 'cold': 0.3, 'dizzy': 0.6},\n",
    "   }\n",
    "fwd_bkw(observations,\n",
    "                   states,\n",
    "                   start_probability,\n",
    "                   transition_probability,\n",
    "                   emission_probability,\n",
    "                   end_state)"
   ]
  },
  {
   "cell_type": "code",
   "execution_count": 16,
   "metadata": {},
   "outputs": [
    {
     "name": "stdout",
     "output_type": "stream",
     "text": [
      "[[0.04       0.03408    0.02812032]\n",
      " [0.3        0.0892     0.007518  ]\n",
      " [0.         0.001122   0.00077708]]\n",
      "[[0.0035016  0.0384     0.2       ]\n",
      " [0.021894   0.0412     0.03333333]\n",
      " [0.01249578 0.03707    0.11      ]]\n"
     ]
    }
   ],
   "source": [
    "print(alpha)\n",
    "print(beta)"
   ]
  },
  {
   "cell_type": "code",
   "execution_count": null,
   "metadata": {},
   "outputs": [],
   "source": []
  }
 ],
 "metadata": {
  "kernelspec": {
   "display_name": "Python 3",
   "language": "python",
   "name": "python3"
  },
  "language_info": {
   "codemirror_mode": {
    "name": "ipython",
    "version": 3
   },
   "file_extension": ".py",
   "mimetype": "text/x-python",
   "name": "python",
   "nbconvert_exporter": "python",
   "pygments_lexer": "ipython3",
   "version": "3.5.2"
  }
 },
 "nbformat": 4,
 "nbformat_minor": 2
}
