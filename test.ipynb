{
 "cells": [
  {
   "cell_type": "markdown",
   "metadata": {
    "colab_type": "text",
    "id": "IwILkW1F8FnJ"
   },
   "source": [
    "# Correction des typos\n",
    "\n",
    "Le but de ce projet est de corriger les fautes de frappes dans un texte sans recours à un dictionnaire, en utilisant un modèle de Markov caché (HMM)."
   ]
  },
  {
   "cell_type": "markdown",
   "metadata": {
    "colab_type": "text",
    "id": "NuO2bOCE8FnR"
   },
   "source": [
    "# I - Chargement des données\n",
    "\n",
    "Données issues du *Manifeste de l'Unabomber* et artificiellement bruitées en mofifiant aléatoirement 10% ou 20% des lettres du corpus."
   ]
  },
  {
   "cell_type": "code",
   "execution_count": 1,
   "metadata": {},
   "outputs": [],
   "source": [
    "import numpy as np\n",
    "\n",
    "from HMM import *\n",
    "from toolbox import *"
   ]
  },
  {
   "cell_type": "code",
   "execution_count": 2,
   "metadata": {},
   "outputs": [
    {
     "name": "stdout",
     "output_type": "stream",
     "text": [
      "26 states :\n",
      "['a', 'b', 'c', 'd', 'e', 'f', 'g', 'h', 'i', 'j', 'k', 'l', 'm', 'n', 'o', 'p', 'q', 'r', 's', 't', 'u', 'v', 'w', 'x', 'y', 'z']\n",
      "26 observations :\n",
      "['a', 'b', 'c', 'd', 'e', 'f', 'g', 'h', 'i', 'j', 'k', 'l', 'm', 'n', 'o', 'p', 'q', 'r', 's', 't', 'u', 'v', 'w', 'x', 'y', 'z']\n",
      "\n",
      "Sample example :\n",
      "[('a', 'a'), ('c', 'c'), ('v', 'c'), ('o', 'o'), ('u', 'u'), ('n', 'n'), ('t', 't')]\n"
     ]
    }
   ],
   "source": [
    "# Import and separate datasets\n",
    "ERROR_RATE = 10  # 10% or 20%\n",
    "train_set, test_set = load_db(error_rate=ERROR_RATE)\n",
    "X_train = [[token[0] for token in word] for word in train_set]\n",
    "y_train = [[token[1] for token in word] for word in train_set]\n",
    "X_test = [[token[0] for token in word] for word in test_set]\n",
    "y_test = [[token[1] for token in word] for word in test_set]\n",
    "\n",
    "# Get states and observations sets\n",
    "states, observations = get_observations_states(X_train, y_train)\n",
    "print(\"{} states :\\n{}\".format(len(states), states))\n",
    "print(\"{} observations :\\n{}\".format(len(observations), observations))\n",
    "\n",
    "# Example from dataset\n",
    "print(\"\\nSample example :\\n{}\".format(train_set[3]))"
   ]
  },
  {
   "cell_type": "markdown",
   "metadata": {},
   "source": [
    "# II - HMM forward d'ordre 1\n",
    "\n",
    "Essai de correction des typos par un HMM d'ordre 1 utilisant l'algorithme de Viterbi (forward)."
   ]
  },
  {
   "cell_type": "code",
   "execution_count": 3,
   "metadata": {},
   "outputs": [
    {
     "name": "stdout",
     "output_type": "stream",
     "text": [
      "1st order HMM created with: \n",
      " * 26 states\n",
      " * 26 observations\n",
      "Training initial states probabilities... Done.\n",
      "Training transitions probabilities given states... Done.\n",
      "Training observations probabilities given states... Done.\n"
     ]
    }
   ],
   "source": [
    "# Initialize and train HMM\n",
    "hmm1 = HMM(states, observations)\n",
    "hmm1.fit(X_train, y_train)"
   ]
  },
  {
   "cell_type": "code",
   "execution_count": 4,
   "metadata": {},
   "outputs": [
    {
     "name": "stdout",
     "output_type": "stream",
     "text": [
      "Observation sequence      : inferikrigy\n",
      "Real states sequence      : inferiority\n",
      "Predicted states sequence : inderiorigy\n"
     ]
    }
   ],
   "source": [
    "# Try HMM prediction on one sample\n",
    "SAMPLE = 11\n",
    "observation_sequence = X_test[SAMPLE]\n",
    "states_sequence = y_test[SAMPLE]\n",
    "\n",
    "predicted_states_sequence = hmm1.predict([observation_sequence])\n",
    "\n",
    "print(\"Observation sequence      : {}\".format(\"\".join(observation_sequence)))\n",
    "print(\"Real states sequence      : {}\".format(\"\".join(states_sequence)))\n",
    "print(\"Predicted states sequence : {}\".format(\"\".join(predicted_states_sequence[0])))"
   ]
  },
  {
   "cell_type": "code",
   "execution_count": 5,
   "metadata": {
    "scrolled": false
   },
   "outputs": [
    {
     "name": "stdout",
     "output_type": "stream",
     "text": [
      "HMM1 score on test set\n",
      " * accuracy on full words : 75.15%\n",
      " * accuracy on letters    : 93.20%\n",
      "   > typos corrected      : 310 (4.23%)\n",
      "   > typos not corrected  : 435 (5.94%)\n",
      "   > typos added          : 63 (0.86%)\n",
      "\n",
      "Dummy score on test set\n",
      " * accuracy on full words : 62.89%\n",
      " * accuracy on letters    : 89.82%\n",
      "   > typos corrected      : 0 (0.00%)\n",
      "   > typos not corrected  : 745 (10.18%)\n",
      "   > typos added          : 0 (0.00%)\n"
     ]
    }
   ],
   "source": [
    "y_test_pred = hmm1.predict(X_test)\n",
    "display_correction_stats(X_test, y_test, y_test_pred, name=\"HMM1\")"
   ]
  },
  {
   "cell_type": "markdown",
   "metadata": {
    "colab": {},
    "colab_type": "code",
    "id": "YO0E0GvD8FnS"
   },
   "source": [
    "\n",
    "# III -HMM d'ordre 2"
   ]
  },
  {
   "cell_type": "markdown",
   "metadata": {},
   "source": [
    "## HMM forward d'ordre 2"
   ]
  },
  {
   "cell_type": "code",
   "execution_count": 6,
   "metadata": {},
   "outputs": [
    {
     "name": "stdout",
     "output_type": "stream",
     "text": [
      "2nd order HMM created with: \n",
      " * 26 states\n",
      " * 26 observations\n",
      "Training initial states probabilities... Done.\n",
      "Training transitions probabilities given states... Done.\n",
      "Training observations probabilities given states... Done.\n"
     ]
    }
   ],
   "source": [
    "# Initialize and train HMM\n",
    "hmm2 = HMM2(states, observations)\n",
    "hmm2.fit(X_train, y_train, smoothing=False)"
   ]
  },
  {
   "cell_type": "code",
   "execution_count": 7,
   "metadata": {},
   "outputs": [
    {
     "name": "stdout",
     "output_type": "stream",
     "text": [
      "Observation sequence      : inferikrigy\n",
      "Real states sequence      : inferiority\n",
      "Predicted states sequence : inferiority\n"
     ]
    }
   ],
   "source": [
    "# Try HMM prediction on one sample\n",
    "SAMPLE = 11\n",
    "observation_sequence = X_test[SAMPLE]\n",
    "states_sequence = y_test[SAMPLE]\n",
    "\n",
    "predicted_states_sequence = hmm2.predict([observation_sequence])\n",
    "\n",
    "print(\"Observation sequence      : {}\".format(\"\".join(observation_sequence)))\n",
    "print(\"Real states sequence      : {}\".format(\"\".join(states_sequence)))\n",
    "print(\"Predicted states sequence : {}\".format(\"\".join(predicted_states_sequence[0])))"
   ]
  },
  {
   "cell_type": "code",
   "execution_count": 8,
   "metadata": {},
   "outputs": [
    {
     "name": "stdout",
     "output_type": "stream",
     "text": [
      "HMM2 score on test set\n",
      " * accuracy on full words : 83.41%\n",
      " * accuracy on letters    : 95.57%\n",
      "   > typos corrected      : 513 (7.01%)\n",
      "   > typos not corrected  : 232 (3.17%)\n",
      "   > typos added          : 92 (1.26%)\n",
      "\n",
      "Dummy score on test set\n",
      " * accuracy on full words : 62.89%\n",
      " * accuracy on letters    : 89.82%\n",
      "   > typos corrected      : 0 (0.00%)\n",
      "   > typos not corrected  : 745 (10.18%)\n",
      "   > typos added          : 0 (0.00%)\n"
     ]
    }
   ],
   "source": [
    "y_test_pred = hmm2.predict(X_test)\n",
    "display_correction_stats(X_test, y_test, y_test_pred, name=\"HMM2\")"
   ]
  },
  {
   "cell_type": "markdown",
   "metadata": {},
   "source": [
    "## HMM forward d'ordre 2 avec smoothing"
   ]
  },
  {
   "cell_type": "code",
   "execution_count": 9,
   "metadata": {},
   "outputs": [
    {
     "name": "stdout",
     "output_type": "stream",
     "text": [
      "2nd order HMM created with: \n",
      " * 26 states\n",
      " * 26 observations\n",
      "Training initial states probabilities... Done.\n",
      "Training transitions probabilities given states... Done.\n",
      "Training observations probabilities given states... Done.\n"
     ]
    }
   ],
   "source": [
    "# Initialize and train HMM\n",
    "hmm2s = HMM2(states, observations)\n",
    "hmm2s.fit(X_train, y_train, smoothing=True)"
   ]
  },
  {
   "cell_type": "code",
   "execution_count": 10,
   "metadata": {},
   "outputs": [
    {
     "name": "stdout",
     "output_type": "stream",
     "text": [
      "Observation sequence      : inferikrigy\n",
      "Real states sequence      : inferiority\n",
      "Predicted states sequence : inferiorigy\n"
     ]
    }
   ],
   "source": [
    "# Try HMM prediction on one sample\n",
    "SAMPLE = 11\n",
    "observation_sequence = X_test[SAMPLE]\n",
    "states_sequence = y_test[SAMPLE]\n",
    "\n",
    "predicted_states_sequence = hmm2s.predict([observation_sequence])\n",
    "\n",
    "print(\"Observation sequence      : {}\".format(\"\".join(observation_sequence)))\n",
    "print(\"Real states sequence      : {}\".format(\"\".join(states_sequence)))\n",
    "print(\"Predicted states sequence : {}\".format(\"\".join(predicted_states_sequence[0])))"
   ]
  },
  {
   "cell_type": "code",
   "execution_count": 11,
   "metadata": {},
   "outputs": [
    {
     "name": "stdout",
     "output_type": "stream",
     "text": [
      "HMM2_smooth score on test set\n",
      " * accuracy on full words : 79.61%\n",
      " * accuracy on letters    : 94.66%\n",
      "   > typos corrected      : 406 (5.55%)\n",
      "   > typos not corrected  : 339 (4.63%)\n",
      "   > typos added          : 52 (0.71%)\n",
      "\n",
      "Dummy score on test set\n",
      " * accuracy on full words : 62.89%\n",
      " * accuracy on letters    : 89.82%\n",
      "   > typos corrected      : 0 (0.00%)\n",
      "   > typos not corrected  : 745 (10.18%)\n",
      "   > typos added          : 0 (0.00%)\n"
     ]
    }
   ],
   "source": [
    "y_test_pred = hmm2s.predict(X_test)\n",
    "display_correction_stats(X_test, y_test, y_test_pred, name=\"HMM2_smooth\")"
   ]
  },
  {
   "cell_type": "markdown",
   "metadata": {},
   "source": [
    "## Test de HOHMM"
   ]
  },
  {
   "cell_type": "code",
   "execution_count": null,
   "metadata": {},
   "outputs": [],
   "source": [
    "from SimpleHOHMM import HiddenMarkovModelBuilder, HiddenMarkovModel\n",
    "\n",
    "order = 2\n",
    "hohmm_builder = HiddenMarkovModelBuilder()\n",
    "hohmm_builder.set_single_states(states)\n",
    "hohmm_builder.set_all_obs(observations)\n",
    "hohmm_builder.add_batch_training_examples(X_train, y_train)\n",
    "hohmm = hohmm_builder.build(highest_order=order)\n",
    "\n",
    "y_test_pred_hohmm = []\n",
    "for obs_seq in X_test:\n",
    "    y_test_pred_hohmm.append(hohmm.decode(obs_seq))\n",
    "\n",
    "display_correction_stats(X_test, y_test, y_test_pred_hohmm, name=\"HOHMM{}\".format(order))"
   ]
  },
  {
   "cell_type": "markdown",
   "metadata": {},
   "source": [
    "# IV - Insertion de caractères"
   ]
  },
  {
   "cell_type": "code",
   "execution_count": 12,
   "metadata": {},
   "outputs": [
    {
     "name": "stdout",
     "output_type": "stream",
     "text": [
      "States sequence sample       : ['a', '_', 'c', 'c', 'o', 'u', 'n', 't']\n",
      "Observations sequence sample : ['a', 'a', 'c', 'v', 'o', 'u', 'n', 't']\n",
      "\n",
      "27 states :\n",
      "['_', 'a', 'b', 'c', 'd', 'e', 'f', 'g', 'h', 'i', 'j', 'k', 'l', 'm', 'n', 'o', 'p', 'q', 'r', 's', 't', 'u', 'v', 'w', 'x', 'y', 'z']\n",
      "26 observations :\n",
      "['a', 'b', 'c', 'd', 'e', 'f', 'g', 'h', 'i', 'j', 'k', 'l', 'm', 'n', 'o', 'p', 'q', 'r', 's', 't', 'u', 'v', 'w', 'x', 'y', 'z']\n"
     ]
    }
   ],
   "source": [
    "# Insert noisy observations (linked to no state) in the database\n",
    "# Empty state will be denoted '_'\n",
    "INSERTION_PROB = 0.05\n",
    "(X_ni_train, y_ni_train), (X_ni_test, y_ni_test) = noisy_insertion(X_train, y_train, X_test, y_test, thresh_proba=INSERTION_PROB)\n",
    "\n",
    "SAMPLE = 3\n",
    "print(\"States sequence sample       : {}\".format(y_ni_train[SAMPLE]))\n",
    "print(\"Observations sequence sample : {}\\n\".format(X_ni_train[SAMPLE]))\n",
    "\n",
    "states_ni, observations_ni = get_observations_states(X_ni_train, y_ni_train)\n",
    "print(\"{} states :\\n{}\".format(len(states_ni), states_ni))\n",
    "print(\"{} observations :\\n{}\".format(len(observations_ni), observations_ni))"
   ]
  },
  {
   "cell_type": "code",
   "execution_count": 13,
   "metadata": {},
   "outputs": [
    {
     "name": "stdout",
     "output_type": "stream",
     "text": [
      "1st order HMM created with: \n",
      " * 27 states\n",
      " * 26 observations\n",
      "Training initial states probabilities... Done.\n",
      "Training transitions probabilities given states... Done.\n",
      "Training observations probabilities given states... Done.\n",
      "\n",
      "HMM1 score on test set\n",
      " * accuracy on full words : 61.89%\n",
      " * accuracy on letters    : 88.67%\n",
      "   > typos corrected      : 327 (4.27%)\n",
      "   > typos not corrected  : 748 (9.78%)\n",
      "   > typos added          : 119 (1.56%)\n",
      "\n",
      "Dummy score on test set\n",
      " * accuracy on full words : 52.10%\n",
      " * accuracy on letters    : 85.95%\n",
      "   > typos corrected      : 0 (0.00%)\n",
      "   > typos not corrected  : 1075 (14.05%)\n",
      "   > typos added          : 0 (0.00%)\n"
     ]
    }
   ],
   "source": [
    "# HMM first order\n",
    "hmm = HMM(states_ni, observations_ni)\n",
    "hmm.fit(X_ni_train, y_ni_train)\n",
    "y_ni_test_pred = hmm.predict(X_ni_test)\n",
    "display_correction_stats(X_ni_test, y_ni_test, y_ni_test_pred, name=\"\\nHMM1\")"
   ]
  },
  {
   "cell_type": "code",
   "execution_count": 14,
   "metadata": {},
   "outputs": [
    {
     "name": "stdout",
     "output_type": "stream",
     "text": [
      "2nd order HMM created with: \n",
      " * 27 states\n",
      " * 26 observations\n",
      "Training initial states probabilities... Done.\n",
      "Training transitions probabilities given states... Done.\n",
      "Training observations probabilities given states... Done.\n",
      "\n",
      "HMM2 score on test set\n",
      " * accuracy on full words : 71.55%\n",
      " * accuracy on letters    : 90.34%\n",
      "   > typos corrected      : 544 (7.11%)\n",
      "   > typos not corrected  : 531 (6.94%)\n",
      "   > typos added          : 208 (2.72%)\n",
      "\n",
      "Dummy score on test set\n",
      " * accuracy on full words : 52.10%\n",
      " * accuracy on letters    : 85.95%\n",
      "   > typos corrected      : 0 (0.00%)\n",
      "   > typos not corrected  : 1075 (14.05%)\n",
      "   > typos added          : 0 (0.00%)\n"
     ]
    }
   ],
   "source": [
    "# HMM second order\n",
    "hmm2 = HMM2(states_ni, observations_ni)\n",
    "hmm2.fit(X_ni_train, y_ni_train)\n",
    "y_ni_test_pred = hmm2.predict(X_ni_test)\n",
    "display_correction_stats(X_ni_test, y_ni_test, y_ni_test_pred, name=\"\\nHMM2\")"
   ]
  },
  {
   "cell_type": "code",
   "execution_count": 15,
   "metadata": {},
   "outputs": [
    {
     "name": "stdout",
     "output_type": "stream",
     "text": [
      "2nd order HMM created with: \n",
      " * 27 states\n",
      " * 26 observations\n",
      "Training initial states probabilities... Done.\n",
      "Training transitions probabilities given states... Done.\n",
      "Training observations probabilities given states... Done.\n",
      "\n",
      "HMM2_smooth score on test set\n",
      " * accuracy on full words : 65.82%\n",
      " * accuracy on letters    : 90.17%\n",
      "   > typos corrected      : 406 (5.31%)\n",
      "   > typos not corrected  : 669 (8.75%)\n",
      "   > typos added          : 83 (1.08%)\n",
      "\n",
      "Dummy score on test set\n",
      " * accuracy on full words : 52.10%\n",
      " * accuracy on letters    : 85.95%\n",
      "   > typos corrected      : 0 (0.00%)\n",
      "   > typos not corrected  : 1075 (14.05%)\n",
      "   > typos added          : 0 (0.00%)\n"
     ]
    }
   ],
   "source": [
    "# HMM second order with smoothing\n",
    "hmm2 = HMM2(states_ni, observations_ni)\n",
    "hmm2.fit(X_ni_train, y_ni_train, smoothing=True)\n",
    "y_ni_test_pred = hmm2.predict(X_ni_test)\n",
    "display_correction_stats(X_ni_test, y_ni_test, y_ni_test_pred, name=\"\\nHMM2_smooth\")"
   ]
  },
  {
   "cell_type": "markdown",
   "metadata": {},
   "source": [
    "# V - Omission de caractères"
   ]
  },
  {
   "cell_type": "code",
   "execution_count": 16,
   "metadata": {},
   "outputs": [],
   "source": [
    "def cross_states(states):\n",
    "    \"\"\" Take a state list as input and return a cross state list\n",
    "    (each new state being a concatenation of two states from states, or a unique state)\n",
    "    Ex: If states=['a', 'b'], cross_states is ['a', 'b', 'aa', 'ab', 'ba', 'bb']\n",
    "\n",
    "    :param states, list of string\n",
    "    :return cross_states: states, list of string\n",
    "    \"\"\"\n",
    "    \n",
    "    cross_states = []\n",
    "    \n",
    "    for s1 in states:\n",
    "        for s2 in states:\n",
    "            cross_states.append(s1 + s2)\n",
    "            \n",
    "    return states + cross_states"
   ]
  },
  {
   "cell_type": "code",
   "execution_count": 17,
   "metadata": {},
   "outputs": [
    {
     "name": "stdout",
     "output_type": "stream",
     "text": [
      "702 states :\n",
      "['a', 'b', 'c', 'd', 'e', 'f', 'g', 'h', 'i', 'j', 'k', 'l', 'm', 'n', 'o', 'p', 'q', 'r', 's', 't', 'u', 'v', 'w', 'x', 'y', 'z', 'aa', 'ab', 'ac', 'ad', 'ae', 'af', 'ag', 'ah', 'ai', 'aj', 'ak', 'al', 'am', 'an', 'ao', 'ap', 'aq', 'ar', 'as', 'at', 'au', 'av', 'aw', 'ax', 'ay', 'az', 'ba', 'bb', 'bc', 'bd', 'be', 'bf', 'bg', 'bh', 'bi', 'bj', 'bk', 'bl', 'bm', 'bn', 'bo', 'bp', 'bq', 'br', 'bs', 'bt', 'bu', 'bv', 'bw', 'bx', 'by', 'bz', 'ca', 'cb', 'cc', 'cd', 'ce', 'cf', 'cg', 'ch', 'ci', 'cj', 'ck', 'cl', 'cm', 'cn', 'co', 'cp', 'cq', 'cr', 'cs', 'ct', 'cu', 'cv', 'cw', 'cx', 'cy', 'cz', 'da', 'db', 'dc', 'dd', 'de', 'df', 'dg', 'dh', 'di', 'dj', 'dk', 'dl', 'dm', 'dn', 'do', 'dp', 'dq', 'dr', 'ds', 'dt', 'du', 'dv', 'dw', 'dx', 'dy', 'dz', 'ea', 'eb', 'ec', 'ed', 'ee', 'ef', 'eg', 'eh', 'ei', 'ej', 'ek', 'el', 'em', 'en', 'eo', 'ep', 'eq', 'er', 'es', 'et', 'eu', 'ev', 'ew', 'ex', 'ey', 'ez', 'fa', 'fb', 'fc', 'fd', 'fe', 'ff', 'fg', 'fh', 'fi', 'fj', 'fk', 'fl', 'fm', 'fn', 'fo', 'fp', 'fq', 'fr', 'fs', 'ft', 'fu', 'fv', 'fw', 'fx', 'fy', 'fz', 'ga', 'gb', 'gc', 'gd', 'ge', 'gf', 'gg', 'gh', 'gi', 'gj', 'gk', 'gl', 'gm', 'gn', 'go', 'gp', 'gq', 'gr', 'gs', 'gt', 'gu', 'gv', 'gw', 'gx', 'gy', 'gz', 'ha', 'hb', 'hc', 'hd', 'he', 'hf', 'hg', 'hh', 'hi', 'hj', 'hk', 'hl', 'hm', 'hn', 'ho', 'hp', 'hq', 'hr', 'hs', 'ht', 'hu', 'hv', 'hw', 'hx', 'hy', 'hz', 'ia', 'ib', 'ic', 'id', 'ie', 'if', 'ig', 'ih', 'ii', 'ij', 'ik', 'il', 'im', 'in', 'io', 'ip', 'iq', 'ir', 'is', 'it', 'iu', 'iv', 'iw', 'ix', 'iy', 'iz', 'ja', 'jb', 'jc', 'jd', 'je', 'jf', 'jg', 'jh', 'ji', 'jj', 'jk', 'jl', 'jm', 'jn', 'jo', 'jp', 'jq', 'jr', 'js', 'jt', 'ju', 'jv', 'jw', 'jx', 'jy', 'jz', 'ka', 'kb', 'kc', 'kd', 'ke', 'kf', 'kg', 'kh', 'ki', 'kj', 'kk', 'kl', 'km', 'kn', 'ko', 'kp', 'kq', 'kr', 'ks', 'kt', 'ku', 'kv', 'kw', 'kx', 'ky', 'kz', 'la', 'lb', 'lc', 'ld', 'le', 'lf', 'lg', 'lh', 'li', 'lj', 'lk', 'll', 'lm', 'ln', 'lo', 'lp', 'lq', 'lr', 'ls', 'lt', 'lu', 'lv', 'lw', 'lx', 'ly', 'lz', 'ma', 'mb', 'mc', 'md', 'me', 'mf', 'mg', 'mh', 'mi', 'mj', 'mk', 'ml', 'mm', 'mn', 'mo', 'mp', 'mq', 'mr', 'ms', 'mt', 'mu', 'mv', 'mw', 'mx', 'my', 'mz', 'na', 'nb', 'nc', 'nd', 'ne', 'nf', 'ng', 'nh', 'ni', 'nj', 'nk', 'nl', 'nm', 'nn', 'no', 'np', 'nq', 'nr', 'ns', 'nt', 'nu', 'nv', 'nw', 'nx', 'ny', 'nz', 'oa', 'ob', 'oc', 'od', 'oe', 'of', 'og', 'oh', 'oi', 'oj', 'ok', 'ol', 'om', 'on', 'oo', 'op', 'oq', 'or', 'os', 'ot', 'ou', 'ov', 'ow', 'ox', 'oy', 'oz', 'pa', 'pb', 'pc', 'pd', 'pe', 'pf', 'pg', 'ph', 'pi', 'pj', 'pk', 'pl', 'pm', 'pn', 'po', 'pp', 'pq', 'pr', 'ps', 'pt', 'pu', 'pv', 'pw', 'px', 'py', 'pz', 'qa', 'qb', 'qc', 'qd', 'qe', 'qf', 'qg', 'qh', 'qi', 'qj', 'qk', 'ql', 'qm', 'qn', 'qo', 'qp', 'qq', 'qr', 'qs', 'qt', 'qu', 'qv', 'qw', 'qx', 'qy', 'qz', 'ra', 'rb', 'rc', 'rd', 're', 'rf', 'rg', 'rh', 'ri', 'rj', 'rk', 'rl', 'rm', 'rn', 'ro', 'rp', 'rq', 'rr', 'rs', 'rt', 'ru', 'rv', 'rw', 'rx', 'ry', 'rz', 'sa', 'sb', 'sc', 'sd', 'se', 'sf', 'sg', 'sh', 'si', 'sj', 'sk', 'sl', 'sm', 'sn', 'so', 'sp', 'sq', 'sr', 'ss', 'st', 'su', 'sv', 'sw', 'sx', 'sy', 'sz', 'ta', 'tb', 'tc', 'td', 'te', 'tf', 'tg', 'th', 'ti', 'tj', 'tk', 'tl', 'tm', 'tn', 'to', 'tp', 'tq', 'tr', 'ts', 'tt', 'tu', 'tv', 'tw', 'tx', 'ty', 'tz', 'ua', 'ub', 'uc', 'ud', 'ue', 'uf', 'ug', 'uh', 'ui', 'uj', 'uk', 'ul', 'um', 'un', 'uo', 'up', 'uq', 'ur', 'us', 'ut', 'uu', 'uv', 'uw', 'ux', 'uy', 'uz', 'va', 'vb', 'vc', 'vd', 've', 'vf', 'vg', 'vh', 'vi', 'vj', 'vk', 'vl', 'vm', 'vn', 'vo', 'vp', 'vq', 'vr', 'vs', 'vt', 'vu', 'vv', 'vw', 'vx', 'vy', 'vz', 'wa', 'wb', 'wc', 'wd', 'we', 'wf', 'wg', 'wh', 'wi', 'wj', 'wk', 'wl', 'wm', 'wn', 'wo', 'wp', 'wq', 'wr', 'ws', 'wt', 'wu', 'wv', 'ww', 'wx', 'wy', 'wz', 'xa', 'xb', 'xc', 'xd', 'xe', 'xf', 'xg', 'xh', 'xi', 'xj', 'xk', 'xl', 'xm', 'xn', 'xo', 'xp', 'xq', 'xr', 'xs', 'xt', 'xu', 'xv', 'xw', 'xx', 'xy', 'xz', 'ya', 'yb', 'yc', 'yd', 'ye', 'yf', 'yg', 'yh', 'yi', 'yj', 'yk', 'yl', 'ym', 'yn', 'yo', 'yp', 'yq', 'yr', 'ys', 'yt', 'yu', 'yv', 'yw', 'yx', 'yy', 'yz', 'za', 'zb', 'zc', 'zd', 'ze', 'zf', 'zg', 'zh', 'zi', 'zj', 'zk', 'zl', 'zm', 'zn', 'zo', 'zp', 'zq', 'zr', 'zs', 'zt', 'zu', 'zv', 'zw', 'zx', 'zy', 'zz']\n",
      "26 observations :\n",
      "['a', 'b', 'c', 'd', 'e', 'f', 'g', 'h', 'i', 'j', 'k', 'l', 'm', 'n', 'o', 'p', 'q', 'r', 's', 't', 'u', 'v', 'w', 'x', 'y', 'z']\n"
     ]
    }
   ],
   "source": [
    "# Remove some observations in the database\n",
    "# To do that, we add the state without observation to the previous state\n",
    "DELETION_PROB = 0.05\n",
    "(X_no_train, y_no_train), (X_no_test, y_no_test) = noisy_omission(X_train, y_train, X_test, y_test, thresh_proba=DELETION_PROB)\n",
    "\n",
    "states_no = cross_states(states)\n",
    "observations_no = observations\n",
    "\n",
    "print(\"{} states :\\n{}\".format(len(states_no), states_no))\n",
    "print(\"{} observations :\\n{}\".format(len(observations_no), observations_no))"
   ]
  },
  {
   "cell_type": "code",
   "execution_count": 18,
   "metadata": {},
   "outputs": [
    {
     "name": "stdout",
     "output_type": "stream",
     "text": [
      "1st order HMM created with: \n",
      " * 702 states\n",
      " * 26 observations\n",
      "Training initial states probabilities... Done.\n",
      "Training transitions probabilities given states... Done.\n",
      "Training observations probabilities given states... Done.\n",
      "HMM score on test set\n",
      " * accuracy on full words : 62.03%\n",
      " * accuracy on letters    : 88.60%\n",
      "   > typos corrected      : 286 (4.12%)\n",
      "   > typos not corrected  : 717 (10.33%)\n",
      "   > typos added          : 74 (1.07%)\n",
      "\n",
      "Dummy score on test set\n",
      " * accuracy on full words : 51.90%\n",
      " * accuracy on letters    : 85.54%\n",
      "   > typos corrected      : 0 (0.00%)\n",
      "   > typos not corrected  : 1003 (14.46%)\n",
      "   > typos added          : 0 (0.00%)\n"
     ]
    }
   ],
   "source": [
    "# HMM first order\n",
    "hmm = HMM(states_no, observations_no)\n",
    "hmm.fit(X_no_train, y_no_train)\n",
    "y_no_test_pred = hmm.predict(X_no_test)\n",
    "display_correction_stats(X_no_test, y_no_test, y_no_test_pred)"
   ]
  },
  {
   "cell_type": "code",
   "execution_count": 19,
   "metadata": {},
   "outputs": [
    {
     "name": "stdout",
     "output_type": "stream",
     "text": [
      "2nd order HMM created with: \n",
      " * 702 states\n",
      " * 26 observations\n",
      "Training initial states probabilities... Done.\n",
      "Training transitions probabilities given states... Done.\n",
      "Training observations probabilities given states... Done.\n"
     ]
    }
   ],
   "source": [
    "# HMM second order\n",
    "hmm2 = HMM2(states_no, observations_no)\n",
    "hmm2.fit(X_no_train, y_no_train)\n",
    "y_no_test_pred = hmm2.predict(X_no_test)\n",
    "display_correction_stats(X_no_test, y_no_test, y_no_test_pred)"
   ]
  },
  {
   "cell_type": "code",
   "execution_count": null,
   "metadata": {},
   "outputs": [],
   "source": [
    "# HMM second order with smoothing\n",
    "hmm2s = HMM2(states_no, observations_no)\n",
    "hmm2s.fit(X_no_train, y_no_train, smoothing=True)\n",
    "y_no_test_pred = hmm2s.predict(X_no_test)\n",
    "display_correction_stats(X_no_test, y_no_test, y_no_test_pred)"
   ]
  }
 ],
 "metadata": {
  "colab": {
   "name": "TC4-tp2.ipynb",
   "provenance": [],
   "version": "0.3.2"
  },
  "kernelspec": {
   "display_name": "Python 3",
   "language": "python",
   "name": "python3"
  },
  "language_info": {
   "codemirror_mode": {
    "name": "ipython",
    "version": 3
   },
   "file_extension": ".py",
   "mimetype": "text/x-python",
   "name": "python",
   "nbconvert_exporter": "python",
   "pygments_lexer": "ipython3",
   "version": "3.5.2"
  }
 },
 "nbformat": 4,
 "nbformat_minor": 1
}
