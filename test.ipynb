{
 "cells": [
  {
   "cell_type": "markdown",
   "metadata": {
    "colab_type": "text",
    "id": "IwILkW1F8FnJ"
   },
   "source": [
    "# Correction des typos\n",
    "\n",
    "Le but de ce projet est de corriger les fautes de frappes dans un texte sans recours à un dictionnaire, en utilisant un modèle de Markov caché (HMM)."
   ]
  },
  {
   "cell_type": "markdown",
   "metadata": {
    "colab_type": "text",
    "id": "NuO2bOCE8FnR"
   },
   "source": [
    "## Chargement des données\n",
    "\n",
    "Données issues du *Manifeste de l'Unabomber* et artificiellement bruitées en mofifiant aléatoirement 10% ou 20% des lettres du corpus."
   ]
  },
  {
   "cell_type": "code",
   "execution_count": 1,
   "metadata": {},
   "outputs": [],
   "source": [
    "import numpy as np\n",
    "\n",
    "from HMM import *\n",
    "from toolbox import *"
   ]
  },
  {
   "cell_type": "code",
   "execution_count": 2,
   "metadata": {},
   "outputs": [
    {
     "name": "stdout",
     "output_type": "stream",
     "text": [
      "26 states :\n",
      "['a', 'b', 'c', 'd', 'e', 'f', 'g', 'h', 'i', 'j', 'k', 'l', 'm', 'n', 'o', 'p', 'q', 'r', 's', 't', 'u', 'v', 'w', 'x', 'y', 'z']\n",
      "26 observations :\n",
      "['a', 'b', 'c', 'd', 'e', 'f', 'g', 'h', 'i', 'j', 'k', 'l', 'm', 'n', 'o', 'p', 'q', 'r', 's', 't', 'u', 'v', 'w', 'x', 'y', 'z']\n",
      "\n",
      "Sample example :\n",
      "[('a', 'a'), ('c', 'c'), ('v', 'c'), ('o', 'o'), ('u', 'u'), ('n', 'n'), ('t', 't')]\n"
     ]
    }
   ],
   "source": [
    "# Import and separate datasets\n",
    "ERROR_RATE = 10  # 10% or 20%\n",
    "train_set, test_set = load_db(error_rate=ERROR_RATE)\n",
    "X_train = [[token[0] for token in word] for word in train_set]\n",
    "y_train = [[token[1] for token in word] for word in train_set]\n",
    "X_test = [[token[0] for token in word] for word in test_set]\n",
    "y_test = [[token[1] for token in word] for word in test_set]\n",
    "\n",
    "# Get states and observations sets\n",
    "states, observations = get_observations_states(X_train, y_train)\n",
    "print(\"{} states :\\n{}\".format(len(states), states))\n",
    "print(\"{} observations :\\n{}\".format(len(observations), observations))\n",
    "\n",
    "# Example from dataset\n",
    "print(\"\\nSample example :\\n{}\".format(train_set[3]))"
   ]
  },
  {
   "cell_type": "markdown",
   "metadata": {},
   "source": [
    "## HMM forward d'ordre 1\n",
    "\n",
    "Essai de correction des typos par un HMM d'ordre 1 utilisant l'algorithme de Viterbi (forward)."
   ]
  },
  {
   "cell_type": "code",
   "execution_count": 3,
   "metadata": {},
   "outputs": [
    {
     "name": "stdout",
     "output_type": "stream",
     "text": [
      "1st order HMM created with: \n",
      " * 26 states\n",
      " * 26 observations\n",
      "Training initial states probabilities... Done.\n",
      "Training transitions probabilities given states... Done.\n",
      "Training observations probabilities given states... Done.\n"
     ]
    }
   ],
   "source": [
    "# Initialize and train HMM\n",
    "hmm = HMM(states, observations)\n",
    "hmm.fit(X_train, y_train)"
   ]
  },
  {
   "cell_type": "code",
   "execution_count": 4,
   "metadata": {},
   "outputs": [
    {
     "name": "stdout",
     "output_type": "stream",
     "text": [
      "Observation sequence      : inferikrigy\n",
      "Real states sequence      : inferiority\n",
      "Predicted states sequence : inderiorigy\n"
     ]
    }
   ],
   "source": [
    "# Try HMM prediction on one sample\n",
    "SAMPLE = 11\n",
    "observation_sequence = X_test[SAMPLE]\n",
    "states_sequence = y_test[SAMPLE]\n",
    "\n",
    "predicted_states_sequence = hmm.predict([observation_sequence])\n",
    "\n",
    "print(\"Observation sequence      : {}\".format(\"\".join(observation_sequence)))\n",
    "print(\"Real states sequence      : {}\".format(\"\".join(states_sequence)))\n",
    "print(\"Predicted states sequence : {}\".format(\"\".join(predicted_states_sequence[0])))"
   ]
  },
  {
   "cell_type": "code",
   "execution_count": 5,
   "metadata": {
    "scrolled": false
   },
   "outputs": [
    {
     "name": "stdout",
     "output_type": "stream",
     "text": [
      "HMM score on test set\n",
      " * accuracy on full words : 75.15%\n",
      " * accuracy on letters    : 93.20%\n",
      "   > typos corrected      : 310 (4.23%)\n",
      "   > typos not corrected  : 435 (5.94%)\n",
      "   > typos added          : 63 (0.86%)\n",
      "\n",
      "Dummy score on test set\n",
      " * accuracy on full words : 62.89%\n",
      " * accuracy on letters    : 89.82%\n",
      "   > typos corrected      : 0 (0.00%)\n",
      "   > typos not corrected  : 745 (10.18%)\n",
      "   > typos added          : 0 (0.00%)\n"
     ]
    }
   ],
   "source": [
    "# HMM predicted letters\n",
    "y_test_pred = hmm.predict(X_test)\n",
    "\n",
    "# compute errors stats\n",
    "hmm_char_res, hmm_word_res = compute_corrections_stats(X_test, y_test, y_test_pred)\n",
    "dummy_char_res, dummy_word_res = compute_corrections_stats(X_test, y_test, X_test)\n",
    "\n",
    "# display main results\n",
    "print(\"HMM score on test set\")\n",
    "print(\" * accuracy on full words : {:.2f}%\".format(hmm_word_res['accuracy'] * 100))\n",
    "print(\" * accuracy on letters    : {:.2f}%\".format(hmm_char_res['accuracy'] * 100))\n",
    "print(\"   > typos corrected      : {} ({:.2f}%)\".format(hmm_char_res['typo_correction'], hmm_char_res['typo_correction'] / hmm_char_res['n_tokens'] * 100))\n",
    "print(\"   > typos not corrected  : {} ({:.2f}%)\".format(hmm_char_res['typo_nocorrection'], hmm_char_res['typo_nocorrection'] / hmm_char_res['n_tokens'] * 100))\n",
    "print(\"   > typos added          : {} ({:.2f}%)\".format(hmm_char_res['notypo_correction'], hmm_char_res['notypo_correction'] / hmm_char_res['n_tokens'] * 100))\n",
    "\n",
    "print(\"\\nDummy score on test set\")\n",
    "print(\" * accuracy on full words : {:.2f}%\".format(dummy_word_res['accuracy'] * 100))\n",
    "print(\" * accuracy on letters    : {:.2f}%\".format(dummy_char_res['accuracy'] * 100))\n",
    "print(\"   > typos corrected      : {} ({:.2f}%)\".format(dummy_char_res['typo_correction'], dummy_char_res['typo_correction'] / dummy_char_res['n_tokens'] * 100))\n",
    "print(\"   > typos not corrected  : {} ({:.2f}%)\".format(dummy_char_res['typo_nocorrection'], dummy_char_res['typo_nocorrection'] / dummy_char_res['n_tokens'] * 100))\n",
    "print(\"   > typos added          : {} ({:.2f}%)\".format(dummy_char_res['notypo_correction'], dummy_char_res['notypo_correction'] / dummy_char_res['n_tokens'] * 100))"
   ]
  },
  {
   "cell_type": "markdown",
   "metadata": {
    "colab": {},
    "colab_type": "code",
    "id": "YO0E0GvD8FnS"
   },
   "source": [
    "\n",
    "## HMM forward d'ordre 2"
   ]
  },
  {
   "cell_type": "code",
   "execution_count": 6,
   "metadata": {},
   "outputs": [
    {
     "name": "stdout",
     "output_type": "stream",
     "text": [
      "2nd order HMM created with: \n",
      " * 26 states\n",
      " * 26 observations\n",
      "Training initial states probabilities... Done.\n",
      "Training transitions probabilities given states... Done.\n",
      "Training observations probabilities given states... Done.\n"
     ]
    }
   ],
   "source": [
    "# Initialize and train HMM\n",
    "hmm2 = HMM2(states, observations)\n",
    "hmm2.fit(X_train, y_train)"
   ]
  },
  {
   "cell_type": "code",
   "execution_count": 7,
   "metadata": {},
   "outputs": [
    {
     "name": "stdout",
     "output_type": "stream",
     "text": [
      "Observation sequence      : inferikrigy\n",
      "Real states sequence      : inferiority\n",
      "Predicted states sequence : inferiority\n"
     ]
    }
   ],
   "source": [
    "# Try HMM prediction on one sample\n",
    "SAMPLE = 11\n",
    "observation_sequence = X_test[SAMPLE]\n",
    "states_sequence = y_test[SAMPLE]\n",
    "\n",
    "predicted_states_sequence = hmm2.predict([observation_sequence])\n",
    "\n",
    "print(\"Observation sequence      : {}\".format(\"\".join(observation_sequence)))\n",
    "print(\"Real states sequence      : {}\".format(\"\".join(states_sequence)))\n",
    "print(\"Predicted states sequence : {}\".format(\"\".join(predicted_states_sequence[0])))"
   ]
  },
  {
   "cell_type": "code",
   "execution_count": 8,
   "metadata": {},
   "outputs": [
    {
     "name": "stdout",
     "output_type": "stream",
     "text": [
      "HMM score on test set\n",
      " * accuracy on full words : 83.41%\n",
      " * accuracy on letters    : 95.57%\n",
      "   > typos corrected      : 513 (7.01%)\n",
      "   > typos not corrected  : 232 (3.17%)\n",
      "   > typos added          : 92 (1.26%)\n",
      "\n",
      "Dummy score on test set\n",
      " * accuracy on full words : 62.89%\n",
      " * accuracy on letters    : 89.82%\n",
      "   > typos corrected      : 0 (0.00%)\n",
      "   > typos not corrected  : 745 (10.18%)\n",
      "   > typos added          : 0 (0.00%)\n"
     ]
    }
   ],
   "source": [
    "# HMM predicted letters\n",
    "y_test_pred = hmm2.predict(X_test)\n",
    "\n",
    "# compute errors stats\n",
    "hmm_char_res, hmm_word_res = compute_corrections_stats(X_test, y_test, y_test_pred)\n",
    "dummy_char_res, dummy_word_res = compute_corrections_stats(X_test, y_test, X_test)\n",
    "\n",
    "# display main results\n",
    "print(\"HMM score on test set\")\n",
    "print(\" * accuracy on full words : {:.2f}%\".format(hmm_word_res['accuracy'] * 100))\n",
    "print(\" * accuracy on letters    : {:.2f}%\".format(hmm_char_res['accuracy'] * 100))\n",
    "print(\"   > typos corrected      : {} ({:.2f}%)\".format(hmm_char_res['typo_correction'], hmm_char_res['typo_correction'] / hmm_char_res['n_tokens'] * 100))\n",
    "print(\"   > typos not corrected  : {} ({:.2f}%)\".format(hmm_char_res['typo_nocorrection'], hmm_char_res['typo_nocorrection'] / hmm_char_res['n_tokens'] * 100))\n",
    "print(\"   > typos added          : {} ({:.2f}%)\".format(hmm_char_res['notypo_correction'], hmm_char_res['notypo_correction'] / hmm_char_res['n_tokens'] * 100))\n",
    "\n",
    "print(\"\\nDummy score on test set\")\n",
    "print(\" * accuracy on full words : {:.2f}%\".format(dummy_word_res['accuracy'] * 100))\n",
    "print(\" * accuracy on letters    : {:.2f}%\".format(dummy_char_res['accuracy'] * 100))\n",
    "print(\"   > typos corrected      : {} ({:.2f}%)\".format(dummy_char_res['typo_correction'], dummy_char_res['typo_correction'] / dummy_char_res['n_tokens'] * 100))\n",
    "print(\"   > typos not corrected  : {} ({:.2f}%)\".format(dummy_char_res['typo_nocorrection'], dummy_char_res['typo_nocorrection'] / dummy_char_res['n_tokens'] * 100))\n",
    "print(\"   > typos added          : {} ({:.2f}%)\".format(dummy_char_res['notypo_correction'], dummy_char_res['notypo_correction'] / dummy_char_res['n_tokens'] * 100))"
   ]
  },
  {
   "cell_type": "code",
   "execution_count": null,
   "metadata": {},
   "outputs": [],
   "source": []
  }
 ],
 "metadata": {
  "colab": {
   "name": "TC4-tp2.ipynb",
   "provenance": [],
   "version": "0.3.2"
  },
  "kernelspec": {
   "display_name": "Python 3",
   "language": "python",
   "name": "python3"
  },
  "language_info": {
   "codemirror_mode": {
    "name": "ipython",
    "version": 3
   },
   "file_extension": ".py",
   "mimetype": "text/x-python",
   "name": "python",
   "nbconvert_exporter": "python",
   "pygments_lexer": "ipython3",
   "version": "3.5.2"
  }
 },
 "nbformat": 4,
 "nbformat_minor": 1
}
